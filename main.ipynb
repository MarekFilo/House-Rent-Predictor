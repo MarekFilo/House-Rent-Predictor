{
 "cells": [
  {
   "cell_type": "code",
   "execution_count": null,
   "metadata": {},
   "outputs": [],
   "source": [
    "import pandas as pd\n",
    "import numpy as np\n",
    "import matplotlib.pyplot as plt\n",
    "import seaborn as sns\n",
    "from sklearn.linear_model import LinearRegression\n",
    "from sklearn.svm import SVR\n",
    "from sklearn.model_selection import train_test_split, RandomizedSearchCV\n",
    "from sklearn.metrics import mean_squared_error"
   ]
  },
  {
   "cell_type": "code",
   "execution_count": null,
   "metadata": {},
   "outputs": [],
   "source": [
    "df = pd.read_csv(\"data.csv\")\n",
    "\n",
    "assert df.isna().sum().sum() == 0, f\"Dataset contains null values\"\n",
    "\n",
    "# Dropping 'Floor' as there are way too many unique values\n",
    "df = df.drop(\"Floor\", axis=1)\n",
    "\n",
    "# Dropping 'Area Locality' as there are 2235 unique values in 4747 records\n",
    "df = df.drop(\"Area Locality\", axis=1)\n",
    "\n",
    "# Converting INR to EUR\n",
    "exchange_rate = 0.011\n",
    "df[\"Rent\"] = df[\"Rent\"] * exchange_rate\n",
    "\n",
    "# All data comes from year 2022 within span of 4 months\n",
    "df[\"Posted On\"] = pd.to_datetime(df[\"Posted On\"])\n",
    "df[\"Month\"] = df[\"Posted On\"].dt.month\n",
    "df[\"Day of Week\"] = df[\"Posted On\"].dt.day_of_week\n",
    "df = df.drop(\"Posted On\", axis=1)\n",
    "\n",
    "# Converting to categories as these features have 3-6 unique values\n",
    "df[\"Area Type\"] = df[\"Area Type\"].astype(\"category\")\n",
    "df[\"City\"] = df[\"City\"].astype(\"category\")\n",
    "# There is an inherit order for each category\n",
    "df[\"Furnishing Status\"] = df[\"Furnishing Status\"].astype(\"category\")\n",
    "df[\"Furnishing Status\"] = pd.Categorical(\n",
    "    df[\"Furnishing Status\"],\n",
    "    categories=[\"Unfurnished\", \"Semi-Furnished\", \"Furnished\"],\n",
    "    ordered=True,\n",
    ")\n",
    "df[\"Tenant Preferred\"] = df[\"Tenant Preferred\"].astype(\"category\")\n",
    "df[\"Point of Contact\"] = df[\"Point of Contact\"].astype(\"category\")\n",
    "\n",
    "\n",
    "sns.scatterplot(data=df, x=\"Size\", y=\"Rent\")\n",
    "df.head()"
   ]
  },
  {
   "cell_type": "code",
   "execution_count": null,
   "metadata": {},
   "outputs": [],
   "source": [
    "z_scores_size = (df[\"Size\"] - df[\"Size\"].mean()) / df[\"Size\"].std()\n",
    "\n",
    "# Threshold for outliers acounted for z-score\n",
    "outlier_threshold = 3.5\n",
    "\n",
    "outliers_indices_size = z_scores_size.abs() > outlier_threshold\n",
    "\n",
    "# Remove outliers from 'Size' to get rid of ~ 60 outliers\n",
    "df = df[~outliers_indices_size]"
   ]
  },
  {
   "cell_type": "code",
   "execution_count": null,
   "metadata": {},
   "outputs": [],
   "source": [
    "def size_vs_rent_per_feature(feature):\n",
    "    # Scatter plot: Size vs. Rent colored by feature\n",
    "    plt.figure(figsize=(14, 6))\n",
    "    plt.subplot(1, 2, 1)\n",
    "    sns.scatterplot(x=\"Size\", y=\"Rent\", data=df, hue=feature, alpha=0.5)\n",
    "    plt.title(f\"Scatter Plot: Size vs. Rent by {feature}\")\n",
    "\n",
    "    # Bar plot: Rent per feature\n",
    "    plt.subplot(1, 2, 2)\n",
    "    sns.barplot(x=feature, y=\"Rent\", data=df, errorbar=None)\n",
    "    plt.title(f\"Bar Plot: Rent per {feature}\")\n",
    "    plt.tight_layout()  # Ensures proper spacing between subplots\n",
    "\n",
    "    plt.show()"
   ]
  },
  {
   "cell_type": "code",
   "execution_count": null,
   "metadata": {},
   "outputs": [],
   "source": [
    "# size_vs_rent_per_feature(\"BHK\")\n",
    "# size_vs_rent_per_feature(\"Area Type\")\n",
    "# size_vs_rent_per_feature(\"City\")\n",
    "# size_vs_rent_per_feature(\"Furnishing Status\")\n",
    "# size_vs_rent_per_feature(\"Tenant Preferred\")\n",
    "# size_vs_rent_per_feature(\"Bathroom\")\n",
    "# size_vs_rent_per_feature(\"Point of Contact\")\n",
    "# size_vs_rent_per_feature(\"Month\")\n",
    "# size_vs_rent_per_feature(\"Day of Week\")"
   ]
  },
  {
   "cell_type": "code",
   "execution_count": null,
   "metadata": {},
   "outputs": [],
   "source": [
    "X = df.drop([\"Rent\"], axis=1)\n",
    "y = df[[\"Rent\"]]\n",
    "\n",
    "# One hot encoding for categorical features, dropping first because of dummy variable multicollinearity\n",
    "X = pd.get_dummies(\n",
    "    X,\n",
    "    columns=[\"Area Type\", \"City\", \"Point of Contact\", \"Tenant Preferred\"],\n",
    "    drop_first=True,\n",
    ")\n",
    "\n",
    "\n",
    "X[\"Furnishing Status\"] = X[\"Furnishing Status\"].cat.codes\n",
    "\n",
    "\n",
    "def coef_per_feature(model, X):\n",
    "    if len(model.coef_[0]) == 1:\n",
    "        print(\"Model has only one feature\")\n",
    "    else:\n",
    "        for coef, feature in zip(model.coef_[0], X.columns):\n",
    "            print(f\"{feature}: {coef:.4f}\")"
   ]
  },
  {
   "cell_type": "code",
   "execution_count": null,
   "metadata": {},
   "outputs": [],
   "source": [
    "X_train, X_test, y_train, y_test = train_test_split(\n",
    "    X, y, random_state=123, test_size=0.25\n",
    ")\n",
    "\n",
    "linregress_model = LinearRegression()\n",
    "\n",
    "linregress_model = linregress_model.fit(X_train, y_train)\n",
    "y_pred = linregress_model.predict(X_test)\n",
    "\n",
    "rmae = mean_squared_error(y_pred, y_test) ** 0.5\n",
    "print(f\"Root mean squared error {rmae:.2f} EUR\")\n",
    "\n",
    "average_rent = y[\"Rent\"].mean()\n",
    "print(f\"Average Rent: {average_rent:.2f} EUR\")\n",
    "\n",
    "coef_per_feature(linregress_model, X)"
   ]
  },
  {
   "cell_type": "code",
   "execution_count": null,
   "metadata": {},
   "outputs": [],
   "source": [
    "X_train, X_test, y_train, y_test = train_test_split(\n",
    "    X, y, random_state=123, test_size=0.25\n",
    ")\n",
    "\n",
    "svr_model = SVR()\n",
    "svr_model.fit(X_train, y_train)"
   ]
  }
 ],
 "metadata": {
  "kernelspec": {
   "display_name": ".venv",
   "language": "python",
   "name": "python3"
  },
  "language_info": {
   "codemirror_mode": {
    "name": "ipython",
    "version": 3
   },
   "file_extension": ".py",
   "mimetype": "text/x-python",
   "name": "python",
   "nbconvert_exporter": "python",
   "pygments_lexer": "ipython3",
   "version": "3.11.4"
  }
 },
 "nbformat": 4,
 "nbformat_minor": 2
}
